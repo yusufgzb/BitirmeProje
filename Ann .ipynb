{
  "cells": [
    {
      "cell_type": "code",
      "execution_count": 1,
      "metadata": {
        "id": "7KZw0OcvOStX"
      },
      "outputs": [
        {
          "name": "stderr",
          "output_type": "stream",
          "text": [
            "Using TensorFlow backend.\n",
            "/home/yusuf/anaconda3/envs/DL/lib/python3.7/site-packages/tensorflow/python/framework/dtypes.py:516: FutureWarning: Passing (type, 1) or '1type' as a synonym of type is deprecated; in a future version of numpy, it will be understood as (type, (1,)) / '(1,)type'.\n",
            "  _np_qint8 = np.dtype([(\"qint8\", np.int8, 1)])\n",
            "/home/yusuf/anaconda3/envs/DL/lib/python3.7/site-packages/tensorflow/python/framework/dtypes.py:517: FutureWarning: Passing (type, 1) or '1type' as a synonym of type is deprecated; in a future version of numpy, it will be understood as (type, (1,)) / '(1,)type'.\n",
            "  _np_quint8 = np.dtype([(\"quint8\", np.uint8, 1)])\n",
            "/home/yusuf/anaconda3/envs/DL/lib/python3.7/site-packages/tensorflow/python/framework/dtypes.py:518: FutureWarning: Passing (type, 1) or '1type' as a synonym of type is deprecated; in a future version of numpy, it will be understood as (type, (1,)) / '(1,)type'.\n",
            "  _np_qint16 = np.dtype([(\"qint16\", np.int16, 1)])\n",
            "/home/yusuf/anaconda3/envs/DL/lib/python3.7/site-packages/tensorflow/python/framework/dtypes.py:519: FutureWarning: Passing (type, 1) or '1type' as a synonym of type is deprecated; in a future version of numpy, it will be understood as (type, (1,)) / '(1,)type'.\n",
            "  _np_quint16 = np.dtype([(\"quint16\", np.uint16, 1)])\n",
            "/home/yusuf/anaconda3/envs/DL/lib/python3.7/site-packages/tensorflow/python/framework/dtypes.py:520: FutureWarning: Passing (type, 1) or '1type' as a synonym of type is deprecated; in a future version of numpy, it will be understood as (type, (1,)) / '(1,)type'.\n",
            "  _np_qint32 = np.dtype([(\"qint32\", np.int32, 1)])\n",
            "/home/yusuf/anaconda3/envs/DL/lib/python3.7/site-packages/tensorflow/python/framework/dtypes.py:525: FutureWarning: Passing (type, 1) or '1type' as a synonym of type is deprecated; in a future version of numpy, it will be understood as (type, (1,)) / '(1,)type'.\n",
            "  np_resource = np.dtype([(\"resource\", np.ubyte, 1)])\n",
            "/home/yusuf/anaconda3/envs/DL/lib/python3.7/site-packages/tensorboard/compat/tensorflow_stub/dtypes.py:541: FutureWarning: Passing (type, 1) or '1type' as a synonym of type is deprecated; in a future version of numpy, it will be understood as (type, (1,)) / '(1,)type'.\n",
            "  _np_qint8 = np.dtype([(\"qint8\", np.int8, 1)])\n",
            "/home/yusuf/anaconda3/envs/DL/lib/python3.7/site-packages/tensorboard/compat/tensorflow_stub/dtypes.py:542: FutureWarning: Passing (type, 1) or '1type' as a synonym of type is deprecated; in a future version of numpy, it will be understood as (type, (1,)) / '(1,)type'.\n",
            "  _np_quint8 = np.dtype([(\"quint8\", np.uint8, 1)])\n",
            "/home/yusuf/anaconda3/envs/DL/lib/python3.7/site-packages/tensorboard/compat/tensorflow_stub/dtypes.py:543: FutureWarning: Passing (type, 1) or '1type' as a synonym of type is deprecated; in a future version of numpy, it will be understood as (type, (1,)) / '(1,)type'.\n",
            "  _np_qint16 = np.dtype([(\"qint16\", np.int16, 1)])\n",
            "/home/yusuf/anaconda3/envs/DL/lib/python3.7/site-packages/tensorboard/compat/tensorflow_stub/dtypes.py:544: FutureWarning: Passing (type, 1) or '1type' as a synonym of type is deprecated; in a future version of numpy, it will be understood as (type, (1,)) / '(1,)type'.\n",
            "  _np_quint16 = np.dtype([(\"quint16\", np.uint16, 1)])\n",
            "/home/yusuf/anaconda3/envs/DL/lib/python3.7/site-packages/tensorboard/compat/tensorflow_stub/dtypes.py:545: FutureWarning: Passing (type, 1) or '1type' as a synonym of type is deprecated; in a future version of numpy, it will be understood as (type, (1,)) / '(1,)type'.\n",
            "  _np_qint32 = np.dtype([(\"qint32\", np.int32, 1)])\n",
            "/home/yusuf/anaconda3/envs/DL/lib/python3.7/site-packages/tensorboard/compat/tensorflow_stub/dtypes.py:550: FutureWarning: Passing (type, 1) or '1type' as a synonym of type is deprecated; in a future version of numpy, it will be understood as (type, (1,)) / '(1,)type'.\n",
            "  np_resource = np.dtype([(\"resource\", np.ubyte, 1)])\n"
          ]
        }
      ],
      "source": [
        "from keras.models import Sequential\n",
        "from keras.layers import Dense\n",
        "import numpy as np\n",
        "import pandas as pd"
      ]
    },
    {
      "cell_type": "code",
      "execution_count": 2,
      "metadata": {
        "colab": {
          "base_uri": "https://localhost:8080/"
        },
        "id": "TqnuIRyQOStc",
        "outputId": "1f09cd29-368c-42c6-da5b-1a9e02c0b4cb"
      },
      "outputs": [
        {
          "name": "stdout",
          "output_type": "stream",
          "text": [
            "Index(['class', 'shoulderLangle', 'shoulderRangle', 'elbowLangle',\n",
            "       'elbowRangle', 'hipLangle', 'hipRangle', 'kneeLangle', 'kneeRangle'],\n",
            "      dtype='object')\n",
            "*****************Y**********\n",
            "['arkaKol' 'arkaKol' 'arkaKol' ... 'Bacak' 'Bacak' 'Bacak']\n",
            "*****************X**********\n",
            "[[ 22.58482949  24.13538377 173.68358679 ... 167.61263228  78.50950313\n",
            "   77.48278728]\n",
            " [ 21.15551397  23.46896614 162.57345399 ... 166.10160123  79.05450618\n",
            "   78.12940452]\n",
            " [ 18.20962618  23.03943874 171.09795047 ... 167.60769143  77.09521562\n",
            "   76.5802227 ]\n",
            " ...\n",
            " [ 33.5741864    2.2445398  153.88921733 ...  76.37993114  65.38727344\n",
            "   62.64667181]\n",
            " [ 34.56097513   1.13594151 154.07815949 ...  74.5951739   70.61402452\n",
            "   65.41439608]\n",
            " [ 34.22680315   1.00704693 154.92526138 ...  72.20488902  73.85540602\n",
            "   68.24748254]]\n",
            "Index(['class', 'shoulderLangle', 'shoulderRangle', 'elbowLangle',\n",
            "       'elbowRangle', 'hipLangle', 'hipRangle', 'kneeLangle', 'kneeRangle'],\n",
            "      dtype='object')\n"
          ]
        }
      ],
      "source": [
        "np.random.seed(7)\n",
        "\n",
        "dataset = pd.read_csv(\"kordinat.csv\")\n",
        "\n",
        "\n",
        "print(dataset.columns)\n",
        "\n",
        "y = dataset[\"class\"].values\n",
        "print(\"*****************Y**********\")\n",
        "print(y)\n",
        "y1=y.copy()\n",
        "\n",
        "x_data = dataset.drop([\"class\"],axis=1)\n",
        "\n",
        "#x = (x_data - np.min(x_data))/(np.max(x_data)-np.min(x_data))\n",
        "x=x_data.values\n",
        "\n",
        "print(\"*****************X**********\")\n",
        "\n",
        "print(x)\n",
        "print(dataset.columns)"
      ]
    },
    {
      "cell_type": "code",
      "execution_count": 3,
      "metadata": {
        "colab": {
          "base_uri": "https://localhost:8080/"
        },
        "id": "FAsHr371fM4_",
        "outputId": "40cc6d4d-8995-400d-d419-782656079a12"
      },
      "outputs": [
        {
          "data": {
            "text/plain": [
              "array([ 21.15551397,  23.46896614, 162.57345399, 151.5994139 ,\n",
              "       157.77782754, 166.10160123,  79.05450618,  78.12940452])"
            ]
          },
          "execution_count": 3,
          "metadata": {},
          "output_type": "execute_result"
        }
      ],
      "source": [
        "x[:,:9][1]"
      ]
    },
    {
      "cell_type": "code",
      "execution_count": null,
      "metadata": {
        "id": "Hvx0ioHfERaM"
      },
      "outputs": [],
      "source": []
    },
    {
      "cell_type": "code",
      "execution_count": 4,
      "metadata": {
        "colab": {
          "base_uri": "https://localhost:8080/"
        },
        "id": "07dqkJS0fbWL",
        "outputId": "82570a3b-29b2-45e6-e089-4587e775f429"
      },
      "outputs": [
        {
          "name": "stdout",
          "output_type": "stream",
          "text": [
            "Counter({'Sirt': 3159, 'Bacak': 2040, 'AltGogus': 1611, 'ÖnKolBar': 955, 'omuz': 623, 'arkaKol': 499})\n",
            "*******\n",
            "Counter({2: 3159, 1: 2040, 0: 1611, 5: 955, 4: 623, 3: 499})\n"
          ]
        }
      ],
      "source": [
        "from sklearn.preprocessing import LabelEncoder\n",
        "le=LabelEncoder()\n",
        "#x = (x - np.min(x))/(np.max(x)-np.min(x))\n",
        "#x[:,-1]=le.fit_transform(x[:,-1])\n",
        "from collections import Counter\n",
        "a=y.tolist()\n",
        "c = Counter(a)\n",
        "print(c)\n",
        "print(\"*******\")\n",
        "y=le.fit_transform(y)\n",
        "a=y.tolist()\n",
        "c = Counter(a)\n",
        "print(c)\n",
        "#0=AltGogus\n",
        "#1=Bacak\n",
        "#2=Sirt\n",
        "#3=arkaKol\n",
        "#4=omuz\n",
        "#5=ÖnKolBar"
      ]
    },
    {
      "cell_type": "code",
      "execution_count": 5,
      "metadata": {},
      "outputs": [],
      "source": [
        "class_count=len(dataset.groupby(\"class\").sum())"
      ]
    },
    {
      "cell_type": "code",
      "execution_count": 6,
      "metadata": {
        "colab": {
          "base_uri": "https://localhost:8080/"
        },
        "id": "Wao0WSrIf-Ab",
        "outputId": "09a7331f-db35-4125-acc8-92dbc34f02aa"
      },
      "outputs": [
        {
          "name": "stdout",
          "output_type": "stream",
          "text": [
            "(7109, 8)\n",
            "(1778, 8)\n",
            "(7109,)\n",
            "(1778,)\n"
          ]
        }
      ],
      "source": [
        "from sklearn.model_selection import train_test_split\n",
        "x_train, x_test, y_train, y_test = train_test_split(x,y,test_size = 0.2,random_state=42)\n",
        "print(x_train.shape)\n",
        "print(x_test.shape)\n",
        "print(y_train.shape)\n",
        "print(y_test.shape)\n",
        "\n",
        "\n",
        "\n"
      ]
    },
    {
      "cell_type": "code",
      "execution_count": 7,
      "metadata": {},
      "outputs": [
        {
          "data": {
            "text/plain": [
              "array([ True, False,  True, False,  True, False, False, False, False,\n",
              "       False, False,  True, False, False, False, False, False, False,\n",
              "       False,  True, False, False, False, False, False, False, False,\n",
              "       False, False,  True, False, False, False, False, False,  True,\n",
              "       False, False, False, False,  True,  True, False,  True, False,\n",
              "        True, False,  True, False, False, False, False, False, False,\n",
              "        True, False, False, False, False, False, False, False, False,\n",
              "        True, False, False, False, False, False, False, False, False,\n",
              "       False, False, False,  True, False, False, False, False,  True,\n",
              "        True, False,  True, False, False, False, False,  True, False,\n",
              "       False, False, False,  True, False, False, False, False, False,\n",
              "       False, False,  True, False, False, False,  True, False,  True,\n",
              "       False, False, False, False, False, False,  True, False, False,\n",
              "       False, False,  True, False, False,  True, False, False,  True,\n",
              "       False, False, False, False, False, False,  True, False, False,\n",
              "       False, False, False, False,  True, False,  True, False, False,\n",
              "       False, False, False,  True, False,  True,  True, False, False,\n",
              "       False, False, False, False, False, False, False, False, False,\n",
              "       False, False, False, False, False,  True, False, False, False,\n",
              "        True, False, False, False, False, False,  True, False, False,\n",
              "        True, False, False, False,  True,  True, False, False, False,\n",
              "       False, False, False, False, False, False,  True,  True, False,\n",
              "        True, False, False, False,  True, False, False, False, False,\n",
              "       False, False, False, False, False, False,  True, False, False,\n",
              "       False,  True,  True, False, False, False, False,  True, False,\n",
              "        True, False, False, False, False, False, False, False, False,\n",
              "       False, False, False,  True, False,  True,  True, False, False,\n",
              "       False, False,  True, False, False,  True, False,  True, False,\n",
              "       False, False, False, False, False, False, False, False,  True,\n",
              "       False, False, False, False,  True, False, False, False, False,\n",
              "       False, False, False, False, False, False, False, False, False,\n",
              "       False,  True,  True, False, False,  True, False,  True, False,\n",
              "        True, False, False,  True, False, False, False, False, False,\n",
              "       False, False,  True,  True, False, False, False,  True, False,\n",
              "       False, False,  True,  True, False, False, False,  True,  True,\n",
              "       False,  True, False, False, False,  True, False, False, False,\n",
              "       False,  True, False, False, False, False, False, False, False,\n",
              "       False])"
            ]
          },
          "execution_count": 7,
          "metadata": {},
          "output_type": "execute_result"
        }
      ],
      "source": [
        "y_test[0:334]==0"
      ]
    },
    {
      "cell_type": "markdown",
      "metadata": {
        "id": "22pFjCdBgEia"
      },
      "source": [
        "**`KNN`**"
      ]
    },
    {
      "cell_type": "code",
      "execution_count": 8,
      "metadata": {
        "colab": {
          "base_uri": "https://localhost:8080/"
        },
        "id": "tHVFoZCsfMsA",
        "outputId": "886a64ac-8c58-4620-b24e-aaabfc4897cc"
      },
      "outputs": [
        {
          "name": "stdout",
          "output_type": "stream",
          "text": [
            "0.9977502812148481\n"
          ]
        }
      ],
      "source": [
        "\n",
        "from sklearn.neighbors import KNeighborsClassifier\n",
        "knn = KNeighborsClassifier(n_neighbors = 16) #   n_neighbors = k  Knn deki key(k) değeri\n",
        "knn.fit(x_train,y_train)\n",
        "prediction = knn.predict(x_test)\n",
        "print(knn.score(x_test,y_test))"
      ]
    },
    {
      "cell_type": "code",
      "execution_count": 9,
      "metadata": {
        "colab": {
          "base_uri": "https://localhost:8080/",
          "height": 300
        },
        "id": "0VSAGCKGECoo",
        "outputId": "5dfb73c9-949f-4782-a349-3b9b28192cef"
      },
      "outputs": [
        {
          "name": "stdout",
          "output_type": "stream",
          "text": [
            "DecisionTreeClassifier score:  0.9960629921259843\n"
          ]
        },
        {
          "name": "stderr",
          "output_type": "stream",
          "text": [
            "OMP: Info #154: KMP_AFFINITY: Initial OS proc set respected: 0-3\n",
            "OMP: Info #214: KMP_AFFINITY: decoding x2APIC ids.\n",
            "OMP: Info #156: KMP_AFFINITY: 4 available OS procs\n",
            "OMP: Info #157: KMP_AFFINITY: Uniform topology\n",
            "OMP: Info #285: KMP_AFFINITY: topology layer \"LL cache\" is equivalent to \"socket\".\n",
            "OMP: Info #285: KMP_AFFINITY: topology layer \"L3 cache\" is equivalent to \"socket\".\n",
            "OMP: Info #285: KMP_AFFINITY: topology layer \"L2 cache\" is equivalent to \"core\".\n",
            "OMP: Info #285: KMP_AFFINITY: topology layer \"L1 cache\" is equivalent to \"core\".\n",
            "OMP: Info #191: KMP_AFFINITY: 1 socket x 2 cores/socket x 2 threads/core (2 total cores)\n",
            "OMP: Info #216: KMP_AFFINITY: OS proc to physical thread map:\n",
            "OMP: Info #171: KMP_AFFINITY: OS proc 0 maps to socket 0 core 0 thread 0 \n",
            "OMP: Info #171: KMP_AFFINITY: OS proc 2 maps to socket 0 core 0 thread 1 \n",
            "OMP: Info #171: KMP_AFFINITY: OS proc 1 maps to socket 0 core 1 thread 0 \n",
            "OMP: Info #171: KMP_AFFINITY: OS proc 3 maps to socket 0 core 1 thread 1 \n",
            "OMP: Info #252: KMP_AFFINITY: pid 11371 tid 11371 thread 0 bound to OS proc set 0\n"
          ]
        },
        {
          "data": {
            "image/png": "[encoded data removed]",
            "text/plain": [
              "<Figure size 432x288 with 1 Axes>"
            ]
          },
          "metadata": {
            "needs_background": "light"
          },
          "output_type": "display_data"
        },
        {
          "name": "stdout",
          "output_type": "stream",
          "text": [
            "RandomForestClassifier score:  1.0\n"
          ]
        }
      ],
      "source": [
        "from sklearn.tree import DecisionTreeClassifier\n",
        "dt=DecisionTreeClassifier()\n",
        "dt.fit(x_train,y_train)\n",
        "\n",
        "print(\"DecisionTreeClassifier score: \",dt.score(x_test,y_test))\n",
        "\n",
        "from sklearn.ensemble import RandomForestClassifier\n",
        "import matplotlib.pyplot as plt\n",
        "\n",
        "skor=[]\n",
        "for each in range(1,50):\n",
        "    \n",
        "\n",
        "    rf=RandomForestClassifier(n_estimators=each,random_state=1)\n",
        "    rf.fit(x_train,y_train)\n",
        "    skor.append(rf.score(x_test,y_test))\n",
        "    \n",
        "plt.plot(range(1,50),skor)\n",
        "plt.show()\n",
        "\n",
        "\n",
        "print(\"RandomForestClassifier score: \",rf.score(x_test,y_test))\n"
      ]
    },
    {
      "cell_type": "code",
      "execution_count": 10,
      "metadata": {
        "colab": {
          "base_uri": "https://localhost:8080/"
        },
        "id": "1G6AEWB5gDpm",
        "outputId": "2b1e71f2-0eee-47b9-8dd7-34c4cdb16b2e"
      },
      "outputs": [
        {
          "name": "stdout",
          "output_type": "stream",
          "text": [
            " KNN:  0.9977502812148481 \n",
            " RandomForestClassifier:  1.0 \n",
            " DecisionTreeClassifier score:  0.9960629921259843\n"
          ]
        }
      ],
      "source": [
        "print(\" KNN: \",knn.score(x_test,y_test),\"\\n\",\n",
        "      \"RandomForestClassifier: \",rf.score(x_test,y_test),\"\\n\",\n",
        "      \"DecisionTreeClassifier score: \",dt.score(x_test,y_test))"
      ]
    },
    {
      "cell_type": "markdown",
      "metadata": {
        "id": "gN-9lE0mgJKK"
      },
      "source": [
        "**ANN**"
      ]
    },
    {
      "cell_type": "code",
      "execution_count": 11,
      "metadata": {
        "id": "kuWsk15DOStd"
      },
      "outputs": [],
      "source": [
        "model =Sequential()\n",
        "model.add(Dense(32,input_dim=8,activation=\"sigmoid\"))\n",
        "model.add(Dense(32,activation=\"sigmoid\"))\n",
        "\n",
        "model.add(Dense(class_count,activation=\"softmax\"))\n",
        "\n",
        "model.compile(loss=\"sparse_categorical_crossentropy\",optimizer=\"adam\",metrics=[\"accuracy\"])"
      ]
    },
    {
      "cell_type": "code",
      "execution_count": 12,
      "metadata": {
        "id": "gvEjWE8EJk52"
      },
      "outputs": [
        {
          "name": "stdout",
          "output_type": "stream",
          "text": [
            "Model: \"sequential_1\"\n",
            "_________________________________________________________________\n",
            "Layer (type)                 Output Shape              Param #   \n",
            "=================================================================\n",
            "dense_1 (Dense)              (None, 32)                288       \n",
            "_________________________________________________________________\n",
            "dense_2 (Dense)              (None, 32)                1056      \n",
            "_________________________________________________________________\n",
            "dense_3 (Dense)              (None, 6)                 198       \n",
            "=================================================================\n",
            "Total params: 1,542\n",
            "Trainable params: 1,542\n",
            "Non-trainable params: 0\n",
            "_________________________________________________________________\n"
          ]
        }
      ],
      "source": [
        "model.summary()"
      ]
    },
    {
      "cell_type": "code",
      "execution_count": 13,
      "metadata": {
        "colab": {
          "base_uri": "https://localhost:8080/"
        },
        "id": "ZrqtLO8nKHC3",
        "outputId": "c1aa78c9-6ff4-4963-c924-9926dd308c89"
      },
      "outputs": [
        {
          "name": "stderr",
          "output_type": "stream",
          "text": [
            "2022-01-04 12:15:55.605045: I tensorflow/core/platform/cpu_feature_guard.cc:145] This TensorFlow binary is optimized with Intel(R) MKL-DNN to use the following CPU instructions in performance critical operations:  SSE4.1 SSE4.2 AVX AVX2 FMA\n",
            "To enable them in non-MKL-DNN operations, rebuild TensorFlow with the appropriate compiler flags.\n",
            "2022-01-04 12:15:55.625449: I tensorflow/core/platform/profile_utils/cpu_utils.cc:94] CPU Frequency: 2396370000 Hz\n",
            "2022-01-04 12:15:55.625615: I tensorflow/compiler/xla/service/service.cc:168] XLA service 0x559b64cba080 executing computations on platform Host. Devices:\n",
            "2022-01-04 12:15:55.625635: I tensorflow/compiler/xla/service/service.cc:175]   StreamExecutor device (0): <undefined>, <undefined>\n",
            "2022-01-04 12:15:55.626236: I tensorflow/core/common_runtime/process_util.cc:115] Creating new thread pool with default inter op setting: 2. Tune using inter_op_parallelism_threads for best performance.\n",
            "2022-01-04 12:15:55.700997: W tensorflow/compiler/jit/mark_for_compilation_pass.cc:1412] (One-time warning): Not using XLA:CPU for cluster because envvar TF_XLA_FLAGS=--tf_xla_cpu_global_jit was not set.  If you want XLA:CPU, either set that envvar, or use experimental_jit_scope to enable XLA:CPU.  To confirm that XLA is active, pass --vmodule=xla_compilation_cache=1 (as a proper command-line flag, not via TF_XLA_FLAGS) or set the envvar XLA_FLAGS=--xla_hlo_profile.\n"
          ]
        },
        {
          "name": "stdout",
          "output_type": "stream",
          "text": [
            "WARNING:tensorflow:From /home/yusuf/anaconda3/envs/DL/lib/python3.7/site-packages/keras/backend/tensorflow_backend.py:422: The name tf.global_variables is deprecated. Please use tf.compat.v1.global_variables instead.\n",
            "\n",
            "Epoch 1/15\n",
            " 880/7109 [==>...........................] - ETA: 5s - loss: 1.6929 - accuracy: 0.3420   "
          ]
        },
        {
          "name": "stderr",
          "output_type": "stream",
          "text": [
            "OMP: Info #252: KMP_AFFINITY: pid 11371 tid 11443 thread 1 bound to OS proc set 1\n",
            "OMP: Info #252: KMP_AFFINITY: pid 11371 tid 11447 thread 3 bound to OS proc set 3\n",
            "OMP: Info #252: KMP_AFFINITY: pid 11371 tid 11448 thread 4 bound to OS proc set 0\n",
            "OMP: Info #252: KMP_AFFINITY: pid 11371 tid 11446 thread 2 bound to OS proc set 2\n",
            "OMP: Info #252: KMP_AFFINITY: pid 11371 tid 11444 thread 5 bound to OS proc set 1\n",
            "OMP: Info #252: KMP_AFFINITY: pid 11371 tid 11449 thread 6 bound to OS proc set 2\n",
            "OMP: Info #252: KMP_AFFINITY: pid 11371 tid 11450 thread 7 bound to OS proc set 3\n",
            "OMP: Info #252: KMP_AFFINITY: pid 11371 tid 11451 thread 8 bound to OS proc set 0\n"
          ]
        },
        {
          "name": "stdout",
          "output_type": "stream",
          "text": [
            "7109/7109 [==============================] - 1s 200us/step - loss: 1.1620 - accuracy: 0.6445\n",
            "Epoch 2/15\n",
            "7109/7109 [==============================] - 1s 119us/step - loss: 0.4626 - accuracy: 0.8640\n",
            "Epoch 3/15\n",
            "7109/7109 [==============================] - 1s 120us/step - loss: 0.2399 - accuracy: 0.9366\n",
            "Epoch 4/15\n",
            "7109/7109 [==============================] - 1s 114us/step - loss: 0.1520 - accuracy: 0.9717\n",
            "Epoch 5/15\n",
            "7109/7109 [==============================] - 1s 125us/step - loss: 0.1059 - accuracy: 0.9775\n",
            "Epoch 6/15\n",
            "7109/7109 [==============================] - 1s 123us/step - loss: 0.0773 - accuracy: 0.9820\n",
            "Epoch 7/15\n",
            "7109/7109 [==============================] - 1s 119us/step - loss: 0.0602 - accuracy: 0.9840\n",
            "Epoch 8/15\n",
            "7109/7109 [==============================] - 1s 108us/step - loss: 0.0483 - accuracy: 0.9869\n",
            "Epoch 9/15\n",
            "7109/7109 [==============================] - 1s 108us/step - loss: 0.0420 - accuracy: 0.9879\n",
            "Epoch 10/15\n",
            "7109/7109 [==============================] - 1s 115us/step - loss: 0.0335 - accuracy: 0.9907\n",
            "Epoch 11/15\n",
            "7109/7109 [==============================] - 1s 110us/step - loss: 0.0291 - accuracy: 0.9921\n",
            "Epoch 12/15\n",
            "7109/7109 [==============================] - 1s 110us/step - loss: 0.0253 - accuracy: 0.9931\n",
            "Epoch 13/15\n",
            "7109/7109 [==============================] - 1s 107us/step - loss: 0.0241 - accuracy: 0.9913\n",
            "Epoch 14/15\n",
            "7109/7109 [==============================] - 1s 111us/step - loss: 0.0252 - accuracy: 0.9914\n",
            "Epoch 15/15\n",
            "7109/7109 [==============================] - 1s 112us/step - loss: 0.0202 - accuracy: 0.9937\n"
          ]
        },
        {
          "data": {
            "text/plain": [
              "<keras.callbacks.callbacks.History at 0x7ff9fb1bd290>"
            ]
          },
          "execution_count": 13,
          "metadata": {},
          "output_type": "execute_result"
        }
      ],
      "source": [
        "model.fit(x_train,y_train,epochs=15,batch_size=16)"
      ]
    },
    {
      "cell_type": "code",
      "execution_count": 14,
      "metadata": {},
      "outputs": [
        {
          "name": "stdout",
          "output_type": "stream",
          "text": [
            "1778/1778 [==============================] - 0s 85us/step\n",
            "0.014229897290250313\n",
            "0.9977502822875977\n"
          ]
        }
      ],
      "source": [
        "test_loss,test_acc = model.evaluate(x_test,y_test)\n",
        "print(test_loss)\n",
        "print(test_acc)\n"
      ]
    },
    {
      "cell_type": "code",
      "execution_count": 15,
      "metadata": {
        "id": "kbIjX5JiKIfN"
      },
      "outputs": [],
      "source": [
        "open(\"model.json\",\"w\").write(model.to_json())\n",
        "model.save_weights(\"gymWeights.h5\")\n",
        "        \n",
        "\n",
        " "
      ]
    },
    {
      "cell_type": "code",
      "execution_count": 16,
      "metadata": {},
      "outputs": [],
      "source": [
        "from keras.models import model_from_json\n",
        "\n",
        "model = model_from_json(open(\"model.json\",\"r\").read())\n",
        "model.load_weights(\"gymWeights.h5\")\n"
      ]
    },
    {
      "cell_type": "code",
      "execution_count": 17,
      "metadata": {},
      "outputs": [
        {
          "name": "stdout",
          "output_type": "stream",
          "text": [
            "Model: \"sequential_1\"\n",
            "_________________________________________________________________\n",
            "Layer (type)                 Output Shape              Param #   \n",
            "=================================================================\n",
            "dense_1 (Dense)              (None, 32)                288       \n",
            "_________________________________________________________________\n",
            "dense_2 (Dense)              (None, 32)                1056      \n",
            "_________________________________________________________________\n",
            "dense_3 (Dense)              (None, 6)                 198       \n",
            "=================================================================\n",
            "Total params: 1,542\n",
            "Trainable params: 1,542\n",
            "Non-trainable params: 0\n",
            "_________________________________________________________________\n"
          ]
        }
      ],
      "source": [
        "model.summary()"
      ]
    },
    {
      "cell_type": "code",
      "execution_count": null,
      "metadata": {},
      "outputs": [],
      "source": []
    }
  ],
  "metadata": {
    "colab": {
      "collapsed_sections": [],
      "name": "a.ipynb",
      "provenance": []
    },
    "interpreter": {
      "hash": "2977abd1a0acc4a56e73887b28d0035b49aadc9ecf2f05514ee6fc506d0e7f43"
    },
    "kernelspec": {
      "display_name": "Python 3.8.12 64-bit ('dLEnv': conda)",
      "language": "python",
      "name": "python3"
    },
    "language_info": {
      "codemirror_mode": {
        "name": "ipython",
        "version": 3
      },
      "file_extension": ".py",
      "mimetype": "text/x-python",
      "name": "python",
      "nbconvert_exporter": "python",
      "pygments_lexer": "ipython3",
      "version": "3.7.11"
    },
    "orig_nbformat": 4
  },
  "nbformat": 4,
  "nbformat_minor": 0
}
